{
 "cells": [
  {
   "cell_type": "code",
   "execution_count": 3,
   "metadata": {},
   "outputs": [
    {
     "data": {
      "text/plain": [
       "True"
      ]
     },
     "execution_count": 3,
     "metadata": {},
     "output_type": "execute_result"
    }
   ],
   "source": [
    "import cv2\n",
    "import numpy as np\n",
    "\n",
    "image = cv2.imread('pic27c.jpg')\n",
    "kernel = np.array([[-1,-1,-1], \n",
    "                   [-1, 9,-1],\n",
    "                   [-1,-1,-1]])\n",
    "sharpened = cv2.filter2D(image, -1, kernel)\n",
    "cv2.imwrite(\"pic27sh.jpg\",sharpened)"
   ]
  },
  {
   "cell_type": "code",
   "execution_count": 12,
   "metadata": {},
   "outputs": [
    {
     "data": {
      "text/plain": [
       "True"
      ]
     },
     "execution_count": 12,
     "metadata": {},
     "output_type": "execute_result"
    }
   ],
   "source": [
    "img1 = cv2.imread('pic27c.jpg',0)\n",
    "blur = cv2.GaussianBlur(img1,(5,5),0)\n",
    "denoise= cv2.fastNlMeansDenoising(blur,None,7,21)\n",
    "cv2.imwrite(\"pic27dn.jpg\",denoise)"
   ]
  },
  {
   "cell_type": "code",
   "execution_count": 14,
   "metadata": {},
   "outputs": [
    {
     "data": {
      "text/plain": [
       "True"
      ]
     },
     "execution_count": 14,
     "metadata": {},
     "output_type": "execute_result"
    }
   ],
   "source": [
    "img=denoise\n",
    "img = cv2.medianBlur(img,5)\n",
    "th= cv2.adaptiveThreshold(img,255,cv2.ADAPTIVE_THRESH_GAUSSIAN_C,cv2.THRESH_BINARY,11,2)\n",
    "cv2.imwrite(\"pic27dnat.jpg\",th)"
   ]
  },
  {
   "cell_type": "code",
   "execution_count": 8,
   "metadata": {},
   "outputs": [
    {
     "name": "stdout",
     "output_type": "stream",
     "text": [
      "None\n"
     ]
    }
   ],
   "source": [
    "print(blur)"
   ]
  },
  {
   "cell_type": "code",
   "execution_count": 9,
   "metadata": {},
   "outputs": [
    {
     "ename": "NameError",
     "evalue": "name 'hi' is not defined",
     "output_type": "error",
     "traceback": [
      "\u001b[1;31m---------------------------------------------------------------------------\u001b[0m",
      "\u001b[1;31mNameError\u001b[0m                                 Traceback (most recent call last)",
      "\u001b[1;32m<ipython-input-9-6122400d05e8>\u001b[0m in \u001b[0;36m<module>\u001b[1;34m\u001b[0m\n\u001b[1;32m----> 1\u001b[1;33m \u001b[0mprint\u001b[0m\u001b[1;33m(\u001b[0m\u001b[0mhi\u001b[0m\u001b[1;33m)\u001b[0m\u001b[1;33m\u001b[0m\u001b[1;33m\u001b[0m\u001b[0m\n\u001b[0m",
      "\u001b[1;31mNameError\u001b[0m: name 'hi' is not defined"
     ]
    }
   ],
   "source": [
    "print(hi)"
   ]
  },
  {
   "cell_type": "code",
   "execution_count": 1,
   "metadata": {},
   "outputs": [
    {
     "data": {
      "text/plain": [
       "True"
      ]
     },
     "execution_count": 1,
     "metadata": {},
     "output_type": "execute_result"
    }
   ],
   "source": [
    "from __future__ import print_function\n",
    "import cv2 as cv\n",
    "import numpy as np\n",
    "import argparse\n",
    "import random as rng\n",
    "src = cv.imread(\"pic27c.jpg\")\n",
    "src[np.all(src == 255, axis=2)] = 0\n",
    "# Show output image\n",
    "kernel = np.array([[1, 1, 1], [1, -8, 1], [1, 1, 1]], dtype=np.float32)\n",
    "# do the laplacian filtering as it is\n",
    "# well, we need to convert everything in something more deeper then CV_8U\n",
    "# because the kernel has some negative values,\n",
    "# and we can expect in general to have a Laplacian image with negative values\n",
    "# BUT a 8bits unsigned int (the one we are working with) can contain values from 0 to 255\n",
    "# so the possible negative number will be truncated\n",
    "imgLaplacian = cv.filter2D(src, cv.CV_32F, kernel)\n",
    "sharp = np.float32(src)\n",
    "imgResult = sharp - imgLaplacian\n",
    "# convert back to 8bits gray scale\n",
    "imgResult = np.clip(imgResult, 0, 255)\n",
    "imgResult = imgResult.astype('uint8')\n",
    "imgLaplacian = np.clip(imgLaplacian, 0, 255)\n",
    "imgLaplacian = np.uint8(imgLaplacian)\n",
    "#cv.imshow('Laplace Filtered Image', imgLaplacian)\n",
    "bw = cv.cvtColor(imgResult, cv.COLOR_BGR2GRAY)\n",
    "_, bw = cv.threshold(bw, 40, 255, cv.THRESH_BINARY | cv.THRESH_OTSU)\n",
    "dist = cv.distanceTransform(bw, cv.DIST_L2, 3)\n",
    "# Normalize the distance image for range = {0.0, 1.0}\n",
    "# so we can visualize and threshold it\n",
    "cv.normalize(dist, dist, 0, 1.0, cv.NORM_MINMAX)\n",
    "_, dist = cv.threshold(dist, 0.4, 1.0, cv.THRESH_BINARY)\n",
    "# Dilate a bit the dist image\n",
    "kernel1 = np.ones((3,3), dtype=np.uint8)\n",
    "dist = cv.dilate(dist, kernel1)\n",
    "dist_8u = dist.astype('uint8')\n",
    "# Find total markers\n",
    "_, contours, _ = cv.findContours(dist_8u, cv.RETR_EXTERNAL, cv.CHAIN_APPROX_SIMPLE)\n",
    "# Create the marker image for the watershed algorithm\n",
    "markers = np.zeros(dist.shape, dtype=np.int32)\n",
    "# Draw the foreground markers\n",
    "for i in range(len(contours)):\n",
    "    cv.drawContours(markers, contours, i, (i+1), -1)\n",
    "# Draw the background marker\n",
    "cv.circle(markers, (5,5), 3, (255,255,255), -1)\n",
    "cv.watershed(imgResult, markers)\n",
    "#mark = np.zeros(markers.shape, dtype=np.uint8)\n",
    "mark = markers.astype('uint8')\n",
    "mark = cv.bitwise_not(mark)\n",
    "# uncomment this if you want to see how the mark\n",
    "# image looks like at that point\n",
    "#cv.imshow('Markers_v2', mark)\n",
    "# Generate random colors\n",
    "colors = []\n",
    "for contour in contours:\n",
    "    colors.append((rng.randint(0,256), rng.randint(0,256), rng.randint(0,256)))\n",
    "# Create the result image\n",
    "dst = np.zeros((markers.shape[0], markers.shape[1], 3), dtype=np.uint8)\n",
    "# Fill labeled objects with random colors\n",
    "for i in range(markers.shape[0]):\n",
    "    for j in range(markers.shape[1]):\n",
    "        index = markers[i,j]\n",
    "        if index > 0 and index <= len(contours):\n",
    "            dst[i,j,:] = colors[index-1]\n",
    "# Visualize the final image\n",
    "cv.imwrite(\"pic27seg.jpg\",dst)"
   ]
  },
  {
   "cell_type": "code",
   "execution_count": 2,
   "metadata": {},
   "outputs": [
    {
     "name": "stdout",
     "output_type": "stream",
     "text": [
      "Help on built-in function distanceTransform:\n",
      "\n",
      "distanceTransform(...)\n",
      "    distanceTransform(src, distanceType, maskSize[, dst[, dstType]]) -> dst\n",
      "    .   @overload\n",
      "    .   @param src 8-bit, single-channel (binary) source image.\n",
      "    .   @param dst Output image with calculated distances. It is a 8-bit or 32-bit floating-point,\n",
      "    .   single-channel image of the same size as src .\n",
      "    .   @param distanceType Type of distance, see #DistanceTypes\n",
      "    .   @param maskSize Size of the distance transform mask, see #DistanceTransformMasks. In case of the\n",
      "    .   #DIST_L1 or #DIST_C distance type, the parameter is forced to 3 because a \\f$3\\times 3\\f$ mask gives\n",
      "    .   the same result as \\f$5\\times 5\\f$ or any larger aperture.\n",
      "    .   @param dstType Type of output image. It can be CV_8U or CV_32F. Type CV_8U can be used only for\n",
      "    .   the first variant of the function and distanceType == #DIST_L1.\n",
      "\n"
     ]
    }
   ],
   "source": [
    "help(cv.distanceTransform)"
   ]
  },
  {
   "cell_type": "code",
   "execution_count": 3,
   "metadata": {},
   "outputs": [
    {
     "ename": "error",
     "evalue": "OpenCV(3.4.1) C:\\Miniconda3\\conda-bld\\opencv-suite_1533128839831\\work\\modules\\imgproc\\src\\thresh.cpp:1406: error: (-215) src.type() == (((0) & ((1 << 3) - 1)) + (((1)-1) << 3)) in function cv::threshold\n",
     "output_type": "error",
     "traceback": [
      "\u001b[1;31m---------------------------------------------------------------------------\u001b[0m",
      "\u001b[1;31merror\u001b[0m                                     Traceback (most recent call last)",
      "\u001b[1;32m<ipython-input-3-45e68404e40d>\u001b[0m in \u001b[0;36m<module>\u001b[1;34m\u001b[0m\n\u001b[0;32m      1\u001b[0m \u001b[0mimg\u001b[0m\u001b[1;33m=\u001b[0m\u001b[0mcv\u001b[0m\u001b[1;33m.\u001b[0m\u001b[0mimread\u001b[0m\u001b[1;33m(\u001b[0m\u001b[1;34m\"pic27c.jpg\"\u001b[0m\u001b[1;33m)\u001b[0m\u001b[1;33m\u001b[0m\u001b[1;33m\u001b[0m\u001b[0m\n\u001b[0;32m      2\u001b[0m \u001b[0mblur\u001b[0m \u001b[1;33m=\u001b[0m \u001b[0mcv\u001b[0m\u001b[1;33m.\u001b[0m\u001b[0mGaussianBlur\u001b[0m\u001b[1;33m(\u001b[0m\u001b[0mimg\u001b[0m\u001b[1;33m,\u001b[0m\u001b[1;33m(\u001b[0m\u001b[1;36m5\u001b[0m\u001b[1;33m,\u001b[0m\u001b[1;36m5\u001b[0m\u001b[1;33m)\u001b[0m\u001b[1;33m,\u001b[0m\u001b[1;36m0\u001b[0m\u001b[1;33m)\u001b[0m\u001b[1;33m\u001b[0m\u001b[1;33m\u001b[0m\u001b[0m\n\u001b[1;32m----> 3\u001b[1;33m \u001b[0mret\u001b[0m\u001b[1;33m,\u001b[0m\u001b[0mth\u001b[0m \u001b[1;33m=\u001b[0m \u001b[0mcv\u001b[0m\u001b[1;33m.\u001b[0m\u001b[0mthreshold\u001b[0m\u001b[1;33m(\u001b[0m\u001b[0mblur\u001b[0m\u001b[1;33m,\u001b[0m\u001b[1;36m0\u001b[0m\u001b[1;33m,\u001b[0m\u001b[1;36m255\u001b[0m\u001b[1;33m,\u001b[0m\u001b[0mcv\u001b[0m\u001b[1;33m.\u001b[0m\u001b[0mTHRESH_BINARY\u001b[0m\u001b[1;33m+\u001b[0m\u001b[0mcv\u001b[0m\u001b[1;33m.\u001b[0m\u001b[0mTHRESH_OTSU\u001b[0m\u001b[1;33m)\u001b[0m\u001b[1;33m\u001b[0m\u001b[1;33m\u001b[0m\u001b[0m\n\u001b[0m\u001b[0;32m      4\u001b[0m \u001b[0mdist\u001b[0m \u001b[1;33m=\u001b[0m \u001b[0mcv\u001b[0m\u001b[1;33m.\u001b[0m\u001b[0mdistanceTransform\u001b[0m\u001b[1;33m(\u001b[0m\u001b[0mth\u001b[0m\u001b[1;33m,\u001b[0m \u001b[0mcv\u001b[0m\u001b[1;33m.\u001b[0m\u001b[0mDIST_L2\u001b[0m\u001b[1;33m,\u001b[0m \u001b[1;36m5\u001b[0m\u001b[1;33m)\u001b[0m\u001b[1;33m\u001b[0m\u001b[1;33m\u001b[0m\u001b[0m\n",
      "\u001b[1;31merror\u001b[0m: OpenCV(3.4.1) C:\\Miniconda3\\conda-bld\\opencv-suite_1533128839831\\work\\modules\\imgproc\\src\\thresh.cpp:1406: error: (-215) src.type() == (((0) & ((1 << 3) - 1)) + (((1)-1) << 3)) in function cv::threshold\n"
     ]
    }
   ],
   "source": [
    "img=cv.imread(\"pic27c.jpg\")\n",
    "blur = cv.GaussianBlur(img,(5,5),0)\n",
    "ret,th = cv.threshold(blur,0,255,cv.THRESH_BINARY+cv.THRESH_OTSU)\n",
    "dist = cv.distanceTransform(th, cv.DIST_L2, 5)\n"
   ]
  },
  {
   "cell_type": "code",
   "execution_count": 10,
   "metadata": {},
   "outputs": [
    {
     "data": {
      "text/plain": [
       "True"
      ]
     },
     "execution_count": 10,
     "metadata": {},
     "output_type": "execute_result"
    }
   ],
   "source": [
    "img=cv.imread(\"pic27c.jpg\",0)\n",
    "img1=img\n",
    "blur = cv.GaussianBlur(img1,(9,9),0)\n",
    "img2=img1-blur\n",
    "ret,thresh = cv.threshold(img2,127,255,cv.THRESH_BINARY)\n",
    "cv.imwrite(\"pic27cbelmn.jpg\",thresh)"
   ]
  },
  {
   "cell_type": "code",
   "execution_count": null,
   "metadata": {},
   "outputs": [],
   "source": [
    "# -*- encoding: windows-1251\n",
    "\n",
    "# http://stackoverflow.com/questions/22122309/opencv-adaptive-threshold-ocr\n",
    "\n",
    "import sys\n",
    "import cv2\n",
    "import numpy as np\n",
    "\n",
    "DEFAULT_BLOCKSIZE = 21  # \n",
    "MEAN_VARIANCE_THREASHOLD = 0.01\n",
    "\n",
    "def calc_block_mean_variance(image, mask, blocksize):\n",
    "    \"\"\" image - image converted to float32 and scaled to 0..1\n",
    "    \"\"\"\n",
    "    I = image.copy()\n",
    "\n",
    "    result = np.zeros( (image.shape[0] / blocksize, image.shape[1] / blocksize) )\n",
    "    small_image = np.zeros( (image.shape[0] / blocksize, image.shape[1] / blocksize) )\n",
    "\n",
    "    for i in xrange(0, image.shape[0] - blocksize, blocksize):\n",
    "        for j in xrange(0, image.shape[1] - blocksize, blocksize):\n",
    "\n",
    "            patch = I[ i:i+blocksize+1, j:j+blocksize+1]\n",
    "            mask_patch = mask[ i:i+blocksize+1, j:j+blocksize+1]\n",
    "\n",
    "            tmp1 = np.zeros((blocksize, blocksize))\n",
    "            tmp2 = np.zeros((blocksize, blocksize))\n",
    "            mean, std_dev = cv2.meanStdDev(patch, tmp1, tmp2, mask_patch)\n",
    "\n",
    "            value = 0\n",
    "            if std_dev[0][0] > MEAN_VARIANCE_THREASHOLD:\n",
    "                value = mean[0][0]\n",
    "\n",
    "            result[i/blocksize, j/blocksize] = value\n",
    "\n",
    "\n",
    "    result *= 255\n",
    "    result = cv2.convertScaleAbs(result)\n",
    "\n",
    "\n",
    "    small_image = cv2.resize(I, (small_image.shape[1], small_image.shape[0]))\n",
    "    small_image *= 255;\n",
    "    small_image = cv2.convertScaleAbs(small_image)\n",
    "\n",
    "    # Здесь в функции inpaint есть страшный глюк при работе с маленькими блоками\n",
    "    # в первом ряде могут вылазить ненужные артефакты. \n",
    "    # поэтому здесь будет страшный хак - мы копируем первый ряд дважды, а после преобразования его удаляем\n",
    "\n",
    "    #small_image = np.insert(small_image, 0, small_image[:,0], 1)\n",
    "    #result = np.insert(result, 0, result[:,0], 1)\n",
    "\n",
    "    res, inpaintmask = cv2.threshold(result, 3, 255, cv2.THRESH_BINARY)\n",
    "\n",
    "    inpainted = cv2.inpaint(small_image, inpaintmask, 10,  cv2.INPAINT_NS);\n",
    "\n",
    "    #inpainted = np.delete(inpainted, 0, 1)\n",
    "    #small_image = np.delete(small_image, 0, 1)\n",
    "\n",
    "    inpainted = cv2.resize(inpainted, (image.shape[1], image.shape[0]))\n",
    "\n",
    "    inpainted = np.float32(inpainted)\n",
    "    inpainted *= 1./255.\n",
    "\n",
    "    return inpainted\n",
    "\n",
    "\n",
    "def normalize(image):\n",
    "\n",
    "    image = cv2.resize(image, (image.shape[1] * 2, image.shape[0] * 2))\n",
    "        \n",
    "#    alpha = image[:, :, 3]\n",
    "\n",
    "#    mask = alpha.copy()\n",
    "#    mask[:] = 0\n",
    "#    mask[alpha == 255] = 1\n",
    "\n",
    "    # remove\n",
    "    mask = image[:,:, 0]\n",
    "    mask[:] = 255\n",
    "\n",
    "    # make alpha channel white    \n",
    "    image = cv2.cvtColor(image, cv2.COLOR_BGRA2GRAY)\n",
    "#    image[alpha < 255] = 255\n",
    "\n",
    "    # Convert to Float values\n",
    "    image_f = np.float32(image)\n",
    "    image_f *= 1./255.   \n",
    "\n",
    "    res = calc_block_mean_variance(image_f, mask, DEFAULT_BLOCKSIZE * 4)    \n",
    "\n",
    "    cv2.imwrite(\"mask.jpg\", res * 255)\n",
    "\n",
    "    res = 1.0 - res\n",
    "    res = image_f + res\n",
    "\n",
    "    res *= 255\n",
    "    res = cv2.convertScaleAbs(res)\n",
    "\n",
    "    \n",
    "\n",
    "    _, res = cv2.threshold(res, 217, 255, cv2.THRESH_BINARY) #  THRESH_BINARY THRESH_OTSU\n",
    "\n",
    "    res = cv2.resize(res, (image.shape[1] / 2, image.shape[0] / 2))\n",
    "\n",
    "    return res\n",
    "   \n",
    "\n",
    "if __name__ == '__main__':\n",
    "\n",
    "    fname = \"img/11.png\" if len(sys.argv) < 2 else sys.argv[1]\n",
    "    outfile = \"out.png\" if len(sys.argv) < 3 else sys.argv[2]\n",
    "\n",
    "    image = cv2.imread(fname, cv2.CV_LOAD_IMAGE_UNCHANGED)\n",
    "\n",
    "    result = normalize(image)\n",
    "\n",
    "    cv2.imwrite(outfile, result)"
   ]
  },
  {
   "cell_type": "code",
   "execution_count": 1,
   "metadata": {},
   "outputs": [],
   "source": [
    "f= open(\"demo.txt\",\"w+\")\n",
    "f.write(\"hi\")\n",
    "f.write(\"naren\")\n",
    "f.close()"
   ]
  },
  {
   "cell_type": "code",
   "execution_count": 16,
   "metadata": {},
   "outputs": [],
   "source": [
    "def binaryval(var):\n",
    "    if var=='?':\n",
    "        v=0\n",
    "    elif var==\" \":\n",
    "        v=0\n",
    "    else:\n",
    "        v= ord(var)-10240\n",
    "    b=bin(v)\n",
    "    b=b[2:len(b)]\n",
    "    if len(b)==1:\n",
    "        d=\"00000\"+b\n",
    "    elif len(b)==2:\n",
    "        d=\"0000\"+b\n",
    "    elif len(b)==3:\n",
    "        d=\"000\"+b\n",
    "    elif len(b)==4:\n",
    "        d=\"00\"+b\n",
    "    elif len(b)==5:\n",
    "        d=\"0\"+b\n",
    "    else:\n",
    "        d=b\n",
    "    return d"
   ]
  },
  {
   "cell_type": "code",
   "execution_count": 19,
   "metadata": {},
   "outputs": [
    {
     "data": {
      "text/plain": [
       "'010111'"
      ]
     },
     "execution_count": 19,
     "metadata": {},
     "output_type": "execute_result"
    }
   ],
   "source": [
    "binaryval('⠗')"
   ]
  },
  {
   "cell_type": "code",
   "execution_count": 18,
   "metadata": {},
   "outputs": [
    {
     "data": {
      "text/plain": [
       "10263"
      ]
     },
     "execution_count": 18,
     "metadata": {},
     "output_type": "execute_result"
    }
   ],
   "source": [
    "ord(\"⠗\")"
   ]
  },
  {
   "cell_type": "code",
   "execution_count": 25,
   "metadata": {},
   "outputs": [
    {
     "ename": "SyntaxError",
     "evalue": "invalid character in identifier (<ipython-input-25-72e2538cd50c>, line 1)",
     "output_type": "error",
     "traceback": [
      "\u001b[0;36m  File \u001b[0;32m\"<ipython-input-25-72e2538cd50c>\"\u001b[0;36m, line \u001b[0;32m1\u001b[0m\n\u001b[0;31m    string= ⠉⠕⠗⠞⠑ ⠔ ⠏⠗⠑⠕⠗⠙⠑ ⠠⠍ ⠏⠗⠑⠉⠊⠎⠑⠇⠽⠒  ⠙ ⠊⠝⠁ ⠋⠊⠭⠑⠙ ⠁⠍ ⠁⠇⠕⠛⠕⠥⠎ ⠏⠗⠕⠏⠑⠗⠞⠽ ⠞ ⠑⠁⠉⠓ ⠧⠑⠗⠞⠑⠭  ⠎⠉⠑⠝⠙⠁⠝⠞ ⠷ ? ? ⠷ ⠞⠗⠑⠑ ⠎⠊⠵⠑⠲ ⠠⠏⠕⠎⠞⠕⠗⠙⠑⠗ ⠝⠥⠍⠖  ⠥⠍⠃⠑⠗⠎ ⠷ ? ⠃⠊⠝⠁⠛⠽?⠤⠞⠑⠑⠞  ⠠⠎⠕⠗⠁ ⠧⠑⠗⠞⠑⠭ ⠧ ⠓⠁⠎ ⠁ ⠝⠥⠖  ⠗⠊⠛⠓⠞ ⠎⠥⠃⠞⠗⠑⠑ ⠓⠁⠎ ⠁ ⠝⠥⠍⠃⠑⠗ ⠛⠗⠑⠁⠞⠑⠗ ⠞⠓⠁⠝ ⠧  ⠉⠥⠇⠁⠞⠊⠝⠛ ⠞⠓ ⠎⠏⠁⠅⠑ ⠃⠑⠗⠎ ⠓ ⠁⠝ ⠁⠝  ⠠⠑ ⠑⠗⠞⠽ ⠞⠓⠁⠇ ⠓ ⠮ ⠏⠗⠕⠏⠑⠗⠞⠽ ⠏⠁⠉⠓ ⠠⠧⠠⠑ ⠍⠃⠑⠗ ⠇⠑⠎⠎ ⠞⠓⠁⠝ ? ⠯ ⠑⠁⠉⠓ ⠧⠑⠗⠞⠑⠭ ⠠⠔  ⠠⠞⠓⠥⠎ ⠖ ⠋⠊⠝⠙ ⠧⠑⠗⠞⠑⠭ ⠉⠕⠍⠏⠁⠗⠑ ? ⠞⠓⠑⠝ ⠺ ⠓⠁⠎ ⠃⠑⠑⠝ ⠋⠕⠥⠝⠙⠲ ⠠⠊⠋⠺ ?⠗⠂ ⠞⠓⠑⠝ ⠗⠑⠏⠑⠁⠞ ⠮ ⠏⠑⠎ ⠿ ⠮ ⠇⠑⠋⠞ ⠎⠥⠃⠞⠗⠑⠑⠆ ⠊⠋ ⠺ ? ⠗ ⠗⠑⠏⠑⠁⠞ ⠮ ⠏⠗⠕⠉⠑⠎⠎ ⠿ ⠮ ⠗⠊⠛⠓⠞ ⠎⠥⠃⠞⠗⠑⠑⠲ ⠠⠃⠽⠑⠝⠞⠊ ⠗ ⠽⠺ ⠺ ⠃⠑ ⠋⠕⠥⠝⠙⠲ ⠠⠎⠥⠉⠓ ⠏⠗⠕⠏⠑⠗⠞⠊⠑⠎ ⠷ ⠞⠗⠁⠧⠑⠗ ⠎⠁⠇⠎ ⠺ ⠃⠑ ⠥⠎⠑⠙ ⠔ ⠇⠁⠞⠑⠗ ⠉⠓⠁⠏⠞⠑⠗⠎⠲ ⠓⠕⠥⠇⠙ ⠃⠑ ⠍⠁⠙⠑⠲  ⠁⠝ ⠃⠑  ⠮  ⠠⠕⠝⠑ ⠋⠊⠝⠁⠇ ⠙⠑⠋⠊⠝⠊⠞⠊⠕⠝ ⠉⠕⠝⠉⠑⠗⠝⠊⠝⠛ ⠞⠗⠑⠑⠎ ⠠⠎  ⠠⠙⠑⠋⠊⠝⠊⠞⠊⠕⠝⠲ ⠠⠁⠝ ⠥⠝⠙⠊⠗⠑⠉⠞⠑⠙ ⠞⠗⠑⠑ ⠊⠎ ⠁⠝ ⠥⠝⠙⠊⠗⠑⠉⠞⠑⠙ ⠛⠗⠁⠏⠓ ⠠⠺ ⠓⠊⠉⠓ ⠊⠎ ⠉⠕⠝⠝⠑⠉⠞⠑⠙ ⠶⠞⠓⠑⠗⠑ ⠊⠎ ⠁ ⠏⠁⠞⠓ ⠃⠑⠞⠺⠑⠑⠝ ⠁⠝⠽ ⠞⠺⠕ ⠧⠑⠗⠞⠊⠉⠑⠎⠶ ⠯ ⠁⠉⠽⠉⠇⠊⠉⠂ ⠠⠁ ⠗⠕⠕⠞⠑⠙ ⠥⠝ ⠙⠊⠗⠑⠉⠞⠑⠙ ⠞⠗⠑⠑ ⠊⠎ ⠁⠝ ⠥⠝⠙⠊⠗⠑⠉⠞⠑⠙ ⠞⠗⠑⠑ ⠔ ⠺⠓⠊⠉⠓ ⠕⠝⠑ ⠠⠧⠑⠗⠞⠑⠭ ⠊⠎ ⠙⠊⠎⠞⠊⠝⠛⠥⠊⠎⠓⠑⠙  ⠠⠎ ⠮ ⠗⠕⠕⠞  ⠠⠁ ⠙⠊⠗⠑⠉⠞⠑⠙ ⠞⠗⠑⠑ ⠉ ⠃⠑ ⠍⠁⠙⠑ ⠊⠝⠞⠕ ⠁ ⠊ ⠉ ⠃⠑ ⠍⠁ ⠼⠚ ⠁ ⠗⠕⠕⠞⠑⠙ ⠥⠝⠙⠊⠗⠑⠉⠞⠑⠙ ⠞⠗⠑⠑ ⠎⠊⠍⠏⠇⠽ ⠍⠁⠅⠊⠝⠛ ⠁⠇⠇ ⠑⠙⠛⠑⠎ ⠥⠝⠙⠊⠗⠑⠉⠞⠑⠙ ⠗⠑  ⠏⠑⠝⠇⠉⠊⠑⠞ ⠠⠺⠑ ⠎⠓⠁⠇⠇ ⠥⠎⠑ ⠮ ⠎⠁⠍⠑ ⠞⠑⠗⠍⠊⠝⠕⠇⠕⠛⠽ ⠯ ⠝⠕⠞⠁⠤ ⠍⠑⠛ ⠕⠁ ⠼⠉ ⠗⠕⠕⠞⠑⠙ ⠥⠝⠙⠊⠗⠑⠉⠞⠑⠙ ⠞⠗⠑⠑⠎ ⠵ ⠿ ⠙⠊⠗⠑⠉⠞⠑⠙ ⠞⠗⠑⠑⠎⠲ ⠠⠮ ⠏⠗⠊ ⠽ ⠍⠁⠞⠓⠑⠍⠁⠞⠊⠉⠁⠇ ⠙⠊⠎ ⠼⠁⠚⠶ ⠒ ⠼⠉ ⠧ ⠑⠊⠎⠞⠊⠝⠉⠞⠊⠕⠝ ⠊⠎ ⠞ ⠔ ⠁ ⠙⠊⠗⠑⠉⠞⠑⠙ ⠞⠗⠑⠑ ⠁⠇⠇ ⠏⠁⠞⠓⠎ ⠛ ⠋⠗ ⠼⠑  ⠠⠊ ? ?⠕⠍ ⠁⠝⠤  ⠠⠎⠑⠎⠞⠕⠗⠎ ⠖ ⠙⠑⠎⠉⠑⠝⠙⠁⠝⠞⠎ ⠺⠓⠑⠗⠑⠒ ⠠⠏⠊ ⠠⠙⠍ ⠠⠞⠑⠁⠎ ⠔ ⠁ ⠗⠕⠕⠞⠑⠙ ⠥⠝⠙⠊⠗⠑⠉⠞⠑⠙ ⠞⠗⠑⠑ ⠏⠁⠞⠓⠎ ⠑⠭⠊ ⠞⠊⠝ ⠃⠕⠞⠅ ⠠⠎? ⠕⠞⠓  ⠙⠊⠗ ⠙⠊⠗⠑⠉⠞⠊⠕⠝⠎⠲  ⠼⠃⠑ ⠠⠗⠠⠑⠠⠉⠠⠥⠠⠗⠠⠎⠠⠊⠠⠕⠠⠝  ⠠⠁ ⠏⠗⠕⠉⠑⠙⠥⠗ ⠑⠉ ⠑⠥⠗⠑ ⠑⠙⠥⠗⠑ ⠞ ⠉⠁⠇⠇⠎ ⠠⠛⠑⠎⠁⠛ ? ⠁⠇⠇⠎ ⠊⠞⠎⠑⠇⠋⠂ ⠙⠊⠗⠑⠉⠞⠇⠽ ⠷ ⠊⠝⠙⠊⠗⠑⠉⠞⠶ ⠠⠉⠠⠉⠠⠥⠠⠛ ⠠⠕⠞⠞⠑⠝⠤⠏⠑⠗ ⠍ ⠠⠭ ⠊ ⠁ ? ? ⠙⠑ ⠠⠉⠠⠞⠠⠎ ⠝⠕⠗⠑ ⠊⠝⠙ ? ⠁⠠⠇ ⠞⠑ ?⠕⠗⠑ ⠇⠥⠉⠊⠙ ⠯ ⠑⠞ ⠯ ⠉⠕⠝⠉⠊⠎⠑ ⠙⠑⠲ ⠺⠊ ⠠⠏⠕⠎⠎⠊⠃⠇⠑ ⠺⠊⠞⠓⠕⠥⠞ ⠠⠋⠑⠉⠥⠗⠎⠊⠕⠝⠲ ⠠⠔ ⠼⠁ ⠦ ⠎⠑⠑  ⠁⠊⠙ ⠼⠁⠚⠲ ⠃⠑ ⠗⠑⠉⠥⠗⠎⠊⠧⠑  ⠕⠗⠊⠞⠓⠍⠎ ⠞⠓⠁⠝ ⠞⠎  ⠠⠎⠉⠗⠊⠏⠞⠊⠕⠝⠎ ⠷ ⠃⠕⠝ ⠠⠺⠑ ⠎⠓⠁⠇⠇\u001b[0m\n\u001b[0m                ^\u001b[0m\n\u001b[0;31mSyntaxError\u001b[0m\u001b[0;31m:\u001b[0m invalid character in identifier\n"
     ]
    }
   ],
   "source": [
    "string= ⠉⠕⠗⠞⠑ ⠔ ⠏⠗⠑⠕⠗⠙⠑ ⠠⠍ ⠏⠗⠑⠉⠊⠎⠑⠇⠽⠒  ⠙ ⠊⠝⠁ ⠋⠊⠭⠑⠙ ⠁⠍ ⠁⠇⠕⠛⠕⠥⠎ ⠏⠗⠕⠏⠑⠗⠞⠽ ⠞ ⠑⠁⠉⠓ ⠧⠑⠗⠞⠑⠭  ⠎⠉⠑⠝⠙⠁⠝⠞ ⠷ ? ? ⠷ ⠞⠗⠑⠑ ⠎⠊⠵⠑⠲ ⠠⠏⠕⠎⠞⠕⠗⠙⠑⠗ ⠝⠥⠍⠖  ⠥⠍⠃⠑⠗⠎ ⠷ ? ⠃⠊⠝⠁⠛⠽?⠤⠞⠑⠑⠞  ⠠⠎⠕⠗⠁ ⠧⠑⠗⠞⠑⠭ ⠧ ⠓⠁⠎ ⠁ ⠝⠥⠖  ⠗⠊⠛⠓⠞ ⠎⠥⠃⠞⠗⠑⠑ ⠓⠁⠎ ⠁ ⠝⠥⠍⠃⠑⠗ ⠛⠗⠑⠁⠞⠑⠗ ⠞⠓⠁⠝ ⠧  ⠉⠥⠇⠁⠞⠊⠝⠛ ⠞⠓ ⠎⠏⠁⠅⠑ ⠃⠑⠗⠎ ⠓ ⠁⠝ ⠁⠝  ⠠⠑ ⠑⠗⠞⠽ ⠞⠓⠁⠇ ⠓ ⠮ ⠏⠗⠕⠏⠑⠗⠞⠽ ⠏⠁⠉⠓ ⠠⠧⠠⠑ ⠍⠃⠑⠗ ⠇⠑⠎⠎ ⠞⠓⠁⠝ ? ⠯ ⠑⠁⠉⠓ ⠧⠑⠗⠞⠑⠭ ⠠⠔  ⠠⠞⠓⠥⠎ ⠖ ⠋⠊⠝⠙ ⠧⠑⠗⠞⠑⠭ ⠉⠕⠍⠏⠁⠗⠑ ? ⠞⠓⠑⠝ ⠺ ⠓⠁⠎ ⠃⠑⠑⠝ ⠋⠕⠥⠝⠙⠲ ⠠⠊⠋⠺ ?⠗⠂ ⠞⠓⠑⠝ ⠗⠑⠏⠑⠁⠞ ⠮ ⠏⠑⠎ ⠿ ⠮ ⠇⠑⠋⠞ ⠎⠥⠃⠞⠗⠑⠑⠆ ⠊⠋ ⠺ ? ⠗ ⠗⠑⠏⠑⠁⠞ ⠮ ⠏⠗⠕⠉⠑⠎⠎ ⠿ ⠮ ⠗⠊⠛⠓⠞ ⠎⠥⠃⠞⠗⠑⠑⠲ ⠠⠃⠽⠑⠝⠞⠊ ⠗ ⠽⠺ ⠺ ⠃⠑ ⠋⠕⠥⠝⠙⠲ ⠠⠎⠥⠉⠓ ⠏⠗⠕⠏⠑⠗⠞⠊⠑⠎ ⠷ ⠞⠗⠁⠧⠑⠗ ⠎⠁⠇⠎ ⠺ ⠃⠑ ⠥⠎⠑⠙ ⠔ ⠇⠁⠞⠑⠗ ⠉⠓⠁⠏⠞⠑⠗⠎⠲ ⠓⠕⠥⠇⠙ ⠃⠑ ⠍⠁⠙⠑⠲  ⠁⠝ ⠃⠑  ⠮  ⠠⠕⠝⠑ ⠋⠊⠝⠁⠇ ⠙⠑⠋⠊⠝⠊⠞⠊⠕⠝ ⠉⠕⠝⠉⠑⠗⠝⠊⠝⠛ ⠞⠗⠑⠑⠎ ⠠⠎  ⠠⠙⠑⠋⠊⠝⠊⠞⠊⠕⠝⠲ ⠠⠁⠝ ⠥⠝⠙⠊⠗⠑⠉⠞⠑⠙ ⠞⠗⠑⠑ ⠊⠎ ⠁⠝ ⠥⠝⠙⠊⠗⠑⠉⠞⠑⠙ ⠛⠗⠁⠏⠓ ⠠⠺ ⠓⠊⠉⠓ ⠊⠎ ⠉⠕⠝⠝⠑⠉⠞⠑⠙ ⠶⠞⠓⠑⠗⠑ ⠊⠎ ⠁ ⠏⠁⠞⠓ ⠃⠑⠞⠺⠑⠑⠝ ⠁⠝⠽ ⠞⠺⠕ ⠧⠑⠗⠞⠊⠉⠑⠎⠶ ⠯ ⠁⠉⠽⠉⠇⠊⠉⠂ ⠠⠁ ⠗⠕⠕⠞⠑⠙ ⠥⠝ ⠙⠊⠗⠑⠉⠞⠑⠙ ⠞⠗⠑⠑ ⠊⠎ ⠁⠝ ⠥⠝⠙⠊⠗⠑⠉⠞⠑⠙ ⠞⠗⠑⠑ ⠔ ⠺⠓⠊⠉⠓ ⠕⠝⠑ ⠠⠧⠑⠗⠞⠑⠭ ⠊⠎ ⠙⠊⠎⠞⠊⠝⠛⠥⠊⠎⠓⠑⠙  ⠠⠎ ⠮ ⠗⠕⠕⠞  ⠠⠁ ⠙⠊⠗⠑⠉⠞⠑⠙ ⠞⠗⠑⠑ ⠉ ⠃⠑ ⠍⠁⠙⠑ ⠊⠝⠞⠕ ⠁ ⠊ ⠉ ⠃⠑ ⠍⠁ ⠼⠚ ⠁ ⠗⠕⠕⠞⠑⠙ ⠥⠝⠙⠊⠗⠑⠉⠞⠑⠙ ⠞⠗⠑⠑ ⠎⠊⠍⠏⠇⠽ ⠍⠁⠅⠊⠝⠛ ⠁⠇⠇ ⠑⠙⠛⠑⠎ ⠥⠝⠙⠊⠗⠑⠉⠞⠑⠙ ⠗⠑  ⠏⠑⠝⠇⠉⠊⠑⠞ ⠠⠺⠑ ⠎⠓⠁⠇⠇ ⠥⠎⠑ ⠮ ⠎⠁⠍⠑ ⠞⠑⠗⠍⠊⠝⠕⠇⠕⠛⠽ ⠯ ⠝⠕⠞⠁⠤ ⠍⠑⠛ ⠕⠁ ⠼⠉ ⠗⠕⠕⠞⠑⠙ ⠥⠝⠙⠊⠗⠑⠉⠞⠑⠙ ⠞⠗⠑⠑⠎ ⠵ ⠿ ⠙⠊⠗⠑⠉⠞⠑⠙ ⠞⠗⠑⠑⠎⠲ ⠠⠮ ⠏⠗⠊ ⠽ ⠍⠁⠞⠓⠑⠍⠁⠞⠊⠉⠁⠇ ⠙⠊⠎ ⠼⠁⠚⠶ ⠒ ⠼⠉ ⠧ ⠑⠊⠎⠞⠊⠝⠉⠞⠊⠕⠝ ⠊⠎ ⠞ ⠔ ⠁ ⠙⠊⠗⠑⠉⠞⠑⠙ ⠞⠗⠑⠑ ⠁⠇⠇ ⠏⠁⠞⠓⠎ ⠛ ⠋⠗ ⠼⠑  ⠠⠊ ? ?⠕⠍ ⠁⠝⠤  ⠠⠎⠑⠎⠞⠕⠗⠎ ⠖ ⠙⠑⠎⠉⠑⠝⠙⠁⠝⠞⠎ ⠺⠓⠑⠗⠑⠒ ⠠⠏⠊ ⠠⠙⠍ ⠠⠞⠑⠁⠎ ⠔ ⠁ ⠗⠕⠕⠞⠑⠙ ⠥⠝⠙⠊⠗⠑⠉⠞⠑⠙ ⠞⠗⠑⠑ ⠏⠁⠞⠓⠎ ⠑⠭⠊ ⠞⠊⠝ ⠃⠕⠞⠅ ⠠⠎? ⠕⠞⠓  ⠙⠊⠗ ⠙⠊⠗⠑⠉⠞⠊⠕⠝⠎⠲  ⠼⠃⠑ ⠠⠗⠠⠑⠠⠉⠠⠥⠠⠗⠠⠎⠠⠊⠠⠕⠠⠝  ⠠⠁ ⠏⠗⠕⠉⠑⠙⠥⠗ ⠑⠉ ⠑⠥⠗⠑ ⠑⠙⠥⠗⠑ ⠞ ⠉⠁⠇⠇⠎ ⠠⠛⠑⠎⠁⠛ ? ⠁⠇⠇⠎ ⠊⠞⠎⠑⠇⠋⠂ ⠙⠊⠗⠑⠉⠞⠇⠽ ⠷ ⠊⠝⠙⠊⠗⠑⠉⠞⠶ ⠠⠉⠠⠉⠠⠥⠠⠛ ⠠⠕⠞⠞⠑⠝⠤⠏⠑⠗ ⠍ ⠠⠭ ⠊ ⠁ ? ? ⠙⠑ ⠠⠉⠠⠞⠠⠎ ⠝⠕⠗⠑ ⠊⠝⠙ ? ⠁⠠⠇ ⠞⠑ ?⠕⠗⠑ ⠇⠥⠉⠊⠙ ⠯ ⠑⠞ ⠯ ⠉⠕⠝⠉⠊⠎⠑ ⠙⠑⠲ ⠺⠊ ⠠⠏⠕⠎⠎⠊⠃⠇⠑ ⠺⠊⠞⠓⠕⠥⠞ ⠠⠋⠑⠉⠥⠗⠎⠊⠕⠝⠲ ⠠⠔ ⠼⠁ ⠦ ⠎⠑⠑  ⠁⠊⠙ ⠼⠁⠚⠲ ⠃⠑ ⠗⠑⠉⠥⠗⠎⠊⠧⠑  ⠕⠗⠊⠞⠓⠍⠎ ⠞⠓⠁⠝ ⠞⠎  ⠠⠎⠉⠗⠊⠏⠞⠊⠕⠝⠎ ⠷ ⠃⠕⠝ ⠠⠺⠑ ⠎⠓⠁⠇⠇\n"
   ]
  },
  {
   "cell_type": "code",
   "execution_count": 21,
   "metadata": {},
   "outputs": [
    {
     "data": {
      "text/plain": [
       "\"'⠉⠕⠗⠞⠑ ⠔ ⠏⠗⠑⠕⠗⠙⠑ ⠠⠍ ⠏⠗⠑⠉⠊⠎⠑⠇⠽⠒  ⠙ ⠊⠝⠁ ⠋⠊⠭⠑⠙ ⠁⠍ ⠁⠇⠕⠛⠕⠥⠎ ⠏⠗⠕⠏⠑⠗⠞⠽ ⠞ ⠑⠁⠉⠓ ⠧⠑⠗⠞⠑⠭  ⠎⠉⠑⠝⠙⠁⠝⠞ ⠷ ? ? ⠷ ⠞⠗⠑⠑ ⠎⠊⠵⠑⠲ ⠠⠏⠕⠎⠞⠕⠗⠙⠑⠗ ⠝⠥⠍⠖  ⠥⠍⠃⠑⠗⠎ ⠷ ? ⠃⠊⠝⠁⠛⠽?⠤⠞⠑⠑⠞  ⠠⠎⠕⠗⠁ ⠧⠑⠗⠞⠑⠭ ⠧ ⠓⠁⠎ ⠁ ⠝⠥⠖  ⠗⠊⠛⠓⠞ ⠎⠥⠃⠞⠗⠑⠑ ⠓⠁⠎ ⠁ ⠝⠥⠍⠃⠑⠗ ⠛⠗⠑⠁⠞⠑⠗ ⠞⠓⠁⠝ ⠧  ⠉⠥⠇⠁⠞⠊⠝⠛ ⠞⠓ ⠎⠏⠁⠅⠑ ⠃⠑⠗⠎ ⠓ ⠁⠝ ⠁⠝  ⠠⠑ ⠑⠗⠞⠽ ⠞⠓⠁⠇ ⠓ ⠮ ⠏⠗⠕⠏⠑⠗⠞⠽ ⠏⠁⠉⠓ ⠠⠧⠠⠑ ⠍⠃⠑⠗ ⠇⠑⠎⠎ ⠞⠓⠁⠝ ? ⠯ ⠑⠁⠉⠓ ⠧⠑⠗⠞⠑⠭ ⠠⠔  ⠠⠞⠓⠥⠎ ⠖ ⠋⠊⠝⠙ ⠧⠑⠗⠞⠑⠭ ⠉⠕⠍⠏⠁⠗⠑ ? ⠞⠓⠑⠝ ⠺ ⠓⠁⠎ ⠃⠑⠑⠝ ⠋⠕⠥⠝⠙⠲ ⠠⠊⠋⠺ ?⠗⠂ ⠞⠓⠑⠝ ⠗⠑⠏⠑⠁⠞ ⠮ ⠏⠑⠎ ⠿ ⠮ ⠇⠑⠋⠞ ⠎⠥⠃⠞⠗⠑⠑⠆ ⠊⠋ ⠺ ? ⠗ ⠗⠑⠏⠑⠁⠞ ⠮ ⠏⠗⠕⠉⠑⠎⠎ ⠿ ⠮ ⠗⠊⠛⠓⠞ ⠎⠥⠃⠞⠗⠑⠑⠲ ⠠⠃⠽⠑⠝⠞⠊ ⠗ ⠽⠺ ⠺ ⠃⠑ ⠋⠕⠥⠝⠙⠲ ⠠⠎⠥⠉⠓ ⠏⠗⠕⠏⠑⠗⠞⠊⠑⠎ ⠷ ⠞⠗⠁⠧⠑⠗ ⠎⠁⠇⠎ ⠺ ⠃⠑ ⠥⠎⠑⠙ ⠔ ⠇⠁⠞⠑⠗ ⠉⠓⠁⠏⠞⠑⠗⠎⠲ ⠓⠕⠥⠇⠙ ⠃⠑ ⠍⠁⠙⠑⠲  ⠁⠝ ⠃⠑  ⠮  ⠠⠕⠝⠑ ⠋⠊⠝⠁⠇ ⠙⠑⠋⠊⠝⠊⠞⠊⠕⠝ ⠉⠕⠝⠉⠑⠗⠝⠊⠝⠛ ⠞⠗⠑⠑⠎ ⠠⠎  ⠠⠙⠑⠋⠊⠝⠊⠞⠊⠕⠝⠲ ⠠⠁⠝ ⠥⠝⠙⠊⠗⠑⠉⠞⠑⠙ ⠞⠗⠑⠑ ⠊⠎ ⠁⠝ ⠥⠝⠙⠊⠗⠑⠉⠞⠑⠙ ⠛⠗⠁⠏⠓ ⠠⠺ ⠓⠊⠉⠓ ⠊⠎ ⠉⠕⠝⠝⠑⠉⠞⠑⠙ ⠶⠞⠓⠑⠗⠑ ⠊⠎ ⠁ ⠏⠁⠞⠓ ⠃⠑⠞⠺⠑⠑⠝ ⠁⠝⠽ ⠞⠺⠕ ⠧⠑⠗⠞⠊⠉⠑⠎⠶ ⠯ ⠁⠉⠽⠉⠇⠊⠉⠂ ⠠⠁ ⠗⠕⠕⠞⠑⠙ ⠥⠝ ⠙⠊⠗⠑⠉⠞⠑⠙ ⠞⠗⠑⠑ ⠊⠎ ⠁⠝ ⠥⠝⠙⠊⠗⠑⠉⠞⠑⠙ ⠞⠗⠑⠑ ⠔ ⠺⠓⠊⠉⠓ ⠕⠝⠑ ⠠⠧⠑⠗⠞⠑⠭ ⠊⠎ ⠙⠊⠎⠞⠊⠝⠛⠥⠊⠎⠓⠑⠙  ⠠⠎ ⠮ ⠗⠕⠕⠞  ⠠⠁ ⠙⠊⠗⠑⠉⠞⠑⠙ ⠞⠗⠑⠑ ⠉ ⠃⠑ ⠍⠁⠙⠑ ⠊⠝⠞⠕ ⠁ ⠊ ⠉ ⠃⠑ ⠍⠁ ⠼⠚ ⠁ ⠗⠕⠕⠞⠑⠙ ⠥⠝⠙⠊⠗⠑⠉⠞⠑⠙ ⠞⠗⠑⠑ ⠎⠊⠍⠏⠇⠽ ⠍⠁⠅⠊⠝⠛ ⠁⠇⠇ ⠑⠙⠛⠑⠎ ⠥⠝⠙⠊⠗⠑⠉⠞⠑⠙ ⠗⠑  ⠏⠑⠝⠇⠉⠊⠑⠞ ⠠⠺⠑ ⠎⠓⠁⠇⠇ ⠥⠎⠑ ⠮ ⠎⠁⠍⠑ ⠞⠑⠗⠍⠊⠝⠕⠇⠕⠛⠽ ⠯ ⠝⠕⠞⠁⠤ ⠍⠑⠛ ⠕⠁ ⠼⠉ ⠗⠕⠕⠞⠑⠙ ⠥⠝⠙⠊⠗⠑⠉⠞⠑⠙ ⠞⠗⠑⠑⠎ ⠵ ⠿ ⠙⠊⠗⠑⠉⠞⠑⠙ ⠞⠗⠑⠑⠎⠲ ⠠⠮ ⠏⠗⠊ ⠽ ⠍⠁⠞⠓⠑⠍⠁⠞⠊⠉⠁⠇ ⠙⠊⠎ ⠼⠁⠚⠶ ⠒ ⠼⠉ ⠧ ⠑⠊⠎⠞⠊⠝⠉⠞⠊⠕⠝ ⠊⠎ ⠞ ⠔ ⠁ ⠙⠊⠗⠑⠉⠞⠑⠙ ⠞⠗⠑⠑ ⠁⠇⠇ ⠏⠁⠞⠓⠎ ⠛ ⠋⠗ ⠼⠑  ⠠⠊ ? ?⠕⠍ ⠁⠝⠤  ⠠⠎⠑⠎⠞⠕⠗⠎ ⠖ ⠙⠑⠎⠉⠑⠝⠙⠁⠝⠞⠎ ⠺⠓⠑⠗⠑⠒ ⠠⠏⠊ ⠠⠙⠍ ⠠⠞⠑⠁⠎ ⠔ ⠁ ⠗⠕⠕⠞⠑⠙ ⠥⠝⠙⠊⠗⠑⠉⠞⠑⠙ ⠞⠗⠑⠑ ⠏⠁⠞⠓⠎ ⠑⠭⠊ ⠞⠊⠝ ⠃⠕⠞⠅ ⠠⠎? ⠕⠞⠓  ⠙⠊⠗ ⠙⠊⠗⠑⠉⠞⠊⠕⠝⠎⠲  ⠼⠃⠑ ⠠⠗⠠⠑⠠⠉⠠⠥⠠⠗⠠⠎⠠⠊⠠⠕⠠⠝  ⠠⠁ ⠏⠗⠕⠉⠑⠙⠥⠗ ⠑⠉ ⠑⠥⠗⠑ ⠑⠙⠥⠗⠑ ⠞ ⠉⠁⠇⠇⠎ ⠠⠛⠑⠎⠁⠛ ? ⠁⠇⠇⠎ ⠊⠞⠎⠑⠇⠋⠂ ⠙⠊⠗⠑⠉⠞⠇⠽ ⠷ ⠊⠝⠙⠊⠗⠑⠉⠞⠶ ⠠⠉⠠⠉⠠⠥⠠⠛ ⠠⠕⠞⠞⠑⠝⠤⠏⠑⠗ ⠍ ⠠⠭ ⠊ ⠁ ? ? ⠙⠑ ⠠⠉⠠⠞⠠⠎ ⠝⠕⠗⠑ ⠊⠝⠙ ? ⠁⠠⠇ ⠞⠑ ?⠕⠗⠑ ⠇⠥⠉⠊⠙ ⠯ ⠑⠞ ⠯ ⠉⠕⠝⠉⠊⠎⠑ ⠙⠑⠲ ⠺⠊ ⠠⠏⠕⠎⠎⠊⠃⠇⠑ ⠺⠊⠞⠓⠕⠥⠞ ⠠⠋⠑⠉⠥⠗⠎⠊⠕⠝⠲ ⠠⠔ ⠼⠁ ⠦ ⠎⠑⠑  ⠁⠊⠙ ⠼⠁⠚⠲ ⠃⠑ ⠗⠑⠉⠥⠗⠎⠊⠧⠑  ⠕⠗⠊⠞⠓⠍⠎ ⠞⠓⠁⠝ ⠞⠎  ⠠⠎⠉⠗⠊⠏⠞⠊⠕⠝⠎ ⠷ ⠃⠕⠝ ⠠⠺⠑ ⠎⠓⠁⠇⠇'\""
      ]
     },
     "execution_count": 21,
     "metadata": {},
     "output_type": "execute_result"
    }
   ],
   "source": [
    "repr(string)"
   ]
  },
  {
   "cell_type": "code",
   "execution_count": 22,
   "metadata": {},
   "outputs": [
    {
     "name": "stdout",
     "output_type": "stream",
     "text": [
      "Help on built-in function repr in module builtins:\n",
      "\n",
      "repr(obj, /)\n",
      "    Return the canonical string representation of the object.\n",
      "    \n",
      "    For many object types, including most builtins, eval(repr(obj)) == obj.\n",
      "\n"
     ]
    }
   ],
   "source": [
    "help(repr)"
   ]
  },
  {
   "cell_type": "code",
   "execution_count": 23,
   "metadata": {},
   "outputs": [
    {
     "ename": "NameError",
     "evalue": "name 'split' is not defined",
     "output_type": "error",
     "traceback": [
      "\u001b[0;31m---------------------------------------------------------------------------\u001b[0m",
      "\u001b[0;31mNameError\u001b[0m                                 Traceback (most recent call last)",
      "\u001b[0;32m<ipython-input-23-5aa15bdb8979>\u001b[0m in \u001b[0;36m<module>\u001b[0;34m()\u001b[0m\n\u001b[0;32m----> 1\u001b[0;31m \u001b[0msplit\u001b[0m\u001b[0;34m(\u001b[0m\u001b[0mstring\u001b[0m\u001b[0;34m)\u001b[0m\u001b[0;34m\u001b[0m\u001b[0;34m\u001b[0m\u001b[0m\n\u001b[0m",
      "\u001b[0;31mNameError\u001b[0m: name 'split' is not defined"
     ]
    }
   ],
   "source": [
    "split(string)"
   ]
  },
  {
   "cell_type": "code",
   "execution_count": 24,
   "metadata": {},
   "outputs": [
    {
     "data": {
      "text/plain": [
       "['⠉⠕⠗⠞⠑',\n",
       " '⠔',\n",
       " '⠏⠗⠑⠕⠗⠙⠑',\n",
       " '⠠⠍',\n",
       " '⠏⠗⠑⠉⠊⠎⠑⠇⠽⠒',\n",
       " '⠙',\n",
       " '⠊⠝⠁',\n",
       " '⠋⠊⠭⠑⠙',\n",
       " '⠁⠍',\n",
       " '⠁⠇⠕⠛⠕⠥⠎',\n",
       " '⠏⠗⠕⠏⠑⠗⠞⠽',\n",
       " '⠞',\n",
       " '⠑⠁⠉⠓',\n",
       " '⠧⠑⠗⠞⠑⠭',\n",
       " '⠎⠉⠑⠝⠙⠁⠝⠞',\n",
       " '⠷',\n",
       " '?',\n",
       " '?',\n",
       " '⠷',\n",
       " '⠞⠗⠑⠑',\n",
       " '⠎⠊⠵⠑⠲',\n",
       " '⠠⠏⠕⠎⠞⠕⠗⠙⠑⠗',\n",
       " '⠝⠥⠍⠖',\n",
       " '⠥⠍⠃⠑⠗⠎',\n",
       " '⠷',\n",
       " '?',\n",
       " '⠃⠊⠝⠁⠛⠽?⠤⠞⠑⠑⠞',\n",
       " '⠠⠎⠕⠗⠁',\n",
       " '⠧⠑⠗⠞⠑⠭',\n",
       " '⠧',\n",
       " '⠓⠁⠎',\n",
       " '⠁',\n",
       " '⠝⠥⠖',\n",
       " '⠗⠊⠛⠓⠞',\n",
       " '⠎⠥⠃⠞⠗⠑⠑',\n",
       " '⠓⠁⠎',\n",
       " '⠁',\n",
       " '⠝⠥⠍⠃⠑⠗',\n",
       " '⠛⠗⠑⠁⠞⠑⠗',\n",
       " '⠞⠓⠁⠝',\n",
       " '⠧',\n",
       " '⠉⠥⠇⠁⠞⠊⠝⠛',\n",
       " '⠞⠓',\n",
       " '⠎⠏⠁⠅⠑',\n",
       " '⠃⠑⠗⠎',\n",
       " '⠓',\n",
       " '⠁⠝',\n",
       " '⠁⠝',\n",
       " '⠠⠑',\n",
       " '⠑⠗⠞⠽',\n",
       " '⠞⠓⠁⠇',\n",
       " '⠓',\n",
       " '⠮',\n",
       " '⠏⠗⠕⠏⠑⠗⠞⠽',\n",
       " '⠏⠁⠉⠓',\n",
       " '⠠⠧⠠⠑',\n",
       " '⠍⠃⠑⠗',\n",
       " '⠇⠑⠎⠎',\n",
       " '⠞⠓⠁⠝',\n",
       " '?',\n",
       " '⠯',\n",
       " '⠑⠁⠉⠓',\n",
       " '⠧⠑⠗⠞⠑⠭',\n",
       " '⠠⠔',\n",
       " '⠠⠞⠓⠥⠎',\n",
       " '⠖',\n",
       " '⠋⠊⠝⠙',\n",
       " '⠧⠑⠗⠞⠑⠭',\n",
       " '⠉⠕⠍⠏⠁⠗⠑',\n",
       " '?',\n",
       " '⠞⠓⠑⠝',\n",
       " '⠺',\n",
       " '⠓⠁⠎',\n",
       " '⠃⠑⠑⠝',\n",
       " '⠋⠕⠥⠝⠙⠲',\n",
       " '⠠⠊⠋⠺',\n",
       " '?⠗⠂',\n",
       " '⠞⠓⠑⠝',\n",
       " '⠗⠑⠏⠑⠁⠞',\n",
       " '⠮',\n",
       " '⠏⠑⠎',\n",
       " '⠿',\n",
       " '⠮',\n",
       " '⠇⠑⠋⠞',\n",
       " '⠎⠥⠃⠞⠗⠑⠑⠆',\n",
       " '⠊⠋',\n",
       " '⠺',\n",
       " '?',\n",
       " '⠗',\n",
       " '⠗⠑⠏⠑⠁⠞',\n",
       " '⠮',\n",
       " '⠏⠗⠕⠉⠑⠎⠎',\n",
       " '⠿',\n",
       " '⠮',\n",
       " '⠗⠊⠛⠓⠞',\n",
       " '⠎⠥⠃⠞⠗⠑⠑⠲',\n",
       " '⠠⠃⠽⠑⠝⠞⠊',\n",
       " '⠗',\n",
       " '⠽⠺',\n",
       " '⠺',\n",
       " '⠃⠑',\n",
       " '⠋⠕⠥⠝⠙⠲',\n",
       " '⠠⠎⠥⠉⠓',\n",
       " '⠏⠗⠕⠏⠑⠗⠞⠊⠑⠎',\n",
       " '⠷',\n",
       " '⠞⠗⠁⠧⠑⠗',\n",
       " '⠎⠁⠇⠎',\n",
       " '⠺',\n",
       " '⠃⠑',\n",
       " '⠥⠎⠑⠙',\n",
       " '⠔',\n",
       " '⠇⠁⠞⠑⠗',\n",
       " '⠉⠓⠁⠏⠞⠑⠗⠎⠲',\n",
       " '⠓⠕⠥⠇⠙',\n",
       " '⠃⠑',\n",
       " '⠍⠁⠙⠑⠲',\n",
       " '⠁⠝',\n",
       " '⠃⠑',\n",
       " '⠮',\n",
       " '⠠⠕⠝⠑',\n",
       " '⠋⠊⠝⠁⠇',\n",
       " '⠙⠑⠋⠊⠝⠊⠞⠊⠕⠝',\n",
       " '⠉⠕⠝⠉⠑⠗⠝⠊⠝⠛',\n",
       " '⠞⠗⠑⠑⠎',\n",
       " '⠠⠎',\n",
       " '⠠⠙⠑⠋⠊⠝⠊⠞⠊⠕⠝⠲',\n",
       " '⠠⠁⠝',\n",
       " '⠥⠝⠙⠊⠗⠑⠉⠞⠑⠙',\n",
       " '⠞⠗⠑⠑',\n",
       " '⠊⠎',\n",
       " '⠁⠝',\n",
       " '⠥⠝⠙⠊⠗⠑⠉⠞⠑⠙',\n",
       " '⠛⠗⠁⠏⠓',\n",
       " '⠠⠺',\n",
       " '⠓⠊⠉⠓',\n",
       " '⠊⠎',\n",
       " '⠉⠕⠝⠝⠑⠉⠞⠑⠙',\n",
       " '⠶⠞⠓⠑⠗⠑',\n",
       " '⠊⠎',\n",
       " '⠁',\n",
       " '⠏⠁⠞⠓',\n",
       " '⠃⠑⠞⠺⠑⠑⠝',\n",
       " '⠁⠝⠽',\n",
       " '⠞⠺⠕',\n",
       " '⠧⠑⠗⠞⠊⠉⠑⠎⠶',\n",
       " '⠯',\n",
       " '⠁⠉⠽⠉⠇⠊⠉⠂',\n",
       " '⠠⠁',\n",
       " '⠗⠕⠕⠞⠑⠙',\n",
       " '⠥⠝',\n",
       " '⠙⠊⠗⠑⠉⠞⠑⠙',\n",
       " '⠞⠗⠑⠑',\n",
       " '⠊⠎',\n",
       " '⠁⠝',\n",
       " '⠥⠝⠙⠊⠗⠑⠉⠞⠑⠙',\n",
       " '⠞⠗⠑⠑',\n",
       " '⠔',\n",
       " '⠺⠓⠊⠉⠓',\n",
       " '⠕⠝⠑',\n",
       " '⠠⠧⠑⠗⠞⠑⠭',\n",
       " '⠊⠎',\n",
       " '⠙⠊⠎⠞⠊⠝⠛⠥⠊⠎⠓⠑⠙',\n",
       " '⠠⠎',\n",
       " '⠮',\n",
       " '⠗⠕⠕⠞',\n",
       " '⠠⠁',\n",
       " '⠙⠊⠗⠑⠉⠞⠑⠙',\n",
       " '⠞⠗⠑⠑',\n",
       " '⠉',\n",
       " '⠃⠑',\n",
       " '⠍⠁⠙⠑',\n",
       " '⠊⠝⠞⠕',\n",
       " '⠁',\n",
       " '⠊',\n",
       " '⠉',\n",
       " '⠃⠑',\n",
       " '⠍⠁',\n",
       " '⠼⠚',\n",
       " '⠁',\n",
       " '⠗⠕⠕⠞⠑⠙',\n",
       " '⠥⠝⠙⠊⠗⠑⠉⠞⠑⠙',\n",
       " '⠞⠗⠑⠑',\n",
       " '⠎⠊⠍⠏⠇⠽',\n",
       " '⠍⠁⠅⠊⠝⠛',\n",
       " '⠁⠇⠇',\n",
       " '⠑⠙⠛⠑⠎',\n",
       " '⠥⠝⠙⠊⠗⠑⠉⠞⠑⠙',\n",
       " '⠗⠑',\n",
       " '⠏⠑⠝⠇⠉⠊⠑⠞',\n",
       " '⠠⠺⠑',\n",
       " '⠎⠓⠁⠇⠇',\n",
       " '⠥⠎⠑',\n",
       " '⠮',\n",
       " '⠎⠁⠍⠑',\n",
       " '⠞⠑⠗⠍⠊⠝⠕⠇⠕⠛⠽',\n",
       " '⠯',\n",
       " '⠝⠕⠞⠁⠤',\n",
       " '⠍⠑⠛',\n",
       " '⠕⠁',\n",
       " '⠼⠉',\n",
       " '⠗⠕⠕⠞⠑⠙',\n",
       " '⠥⠝⠙⠊⠗⠑⠉⠞⠑⠙',\n",
       " '⠞⠗⠑⠑⠎',\n",
       " '⠵',\n",
       " '⠿',\n",
       " '⠙⠊⠗⠑⠉⠞⠑⠙',\n",
       " '⠞⠗⠑⠑⠎⠲',\n",
       " '⠠⠮',\n",
       " '⠏⠗⠊',\n",
       " '⠽',\n",
       " '⠍⠁⠞⠓⠑⠍⠁⠞⠊⠉⠁⠇',\n",
       " '⠙⠊⠎',\n",
       " '⠼⠁⠚⠶',\n",
       " '⠒',\n",
       " '⠼⠉',\n",
       " '⠧',\n",
       " '⠑⠊⠎⠞⠊⠝⠉⠞⠊⠕⠝',\n",
       " '⠊⠎',\n",
       " '⠞',\n",
       " '⠔',\n",
       " '⠁',\n",
       " '⠙⠊⠗⠑⠉⠞⠑⠙',\n",
       " '⠞⠗⠑⠑',\n",
       " '⠁⠇⠇',\n",
       " '⠏⠁⠞⠓⠎',\n",
       " '⠛',\n",
       " '⠋⠗',\n",
       " '⠼⠑',\n",
       " '⠠⠊',\n",
       " '?',\n",
       " '?⠕⠍',\n",
       " '⠁⠝⠤',\n",
       " '⠠⠎⠑⠎⠞⠕⠗⠎',\n",
       " '⠖',\n",
       " '⠙⠑⠎⠉⠑⠝⠙⠁⠝⠞⠎',\n",
       " '⠺⠓⠑⠗⠑⠒',\n",
       " '⠠⠏⠊',\n",
       " '⠠⠙⠍',\n",
       " '⠠⠞⠑⠁⠎',\n",
       " '⠔',\n",
       " '⠁',\n",
       " '⠗⠕⠕⠞⠑⠙',\n",
       " '⠥⠝⠙⠊⠗⠑⠉⠞⠑⠙',\n",
       " '⠞⠗⠑⠑',\n",
       " '⠏⠁⠞⠓⠎',\n",
       " '⠑⠭⠊',\n",
       " '⠞⠊⠝',\n",
       " '⠃⠕⠞⠅',\n",
       " '⠠⠎?',\n",
       " '⠕⠞⠓',\n",
       " '⠙⠊⠗',\n",
       " '⠙⠊⠗⠑⠉⠞⠊⠕⠝⠎⠲',\n",
       " '⠼⠃⠑',\n",
       " '⠠⠗⠠⠑⠠⠉⠠⠥⠠⠗⠠⠎⠠⠊⠠⠕⠠⠝',\n",
       " '⠠⠁',\n",
       " '⠏⠗⠕⠉⠑⠙⠥⠗',\n",
       " '⠑⠉',\n",
       " '⠑⠥⠗⠑',\n",
       " '⠑⠙⠥⠗⠑',\n",
       " '⠞',\n",
       " '⠉⠁⠇⠇⠎',\n",
       " '⠠⠛⠑⠎⠁⠛',\n",
       " '?',\n",
       " '⠁⠇⠇⠎',\n",
       " '⠊⠞⠎⠑⠇⠋⠂',\n",
       " '⠙⠊⠗⠑⠉⠞⠇⠽',\n",
       " '⠷',\n",
       " '⠊⠝⠙⠊⠗⠑⠉⠞⠶',\n",
       " '⠠⠉⠠⠉⠠⠥⠠⠛',\n",
       " '⠠⠕⠞⠞⠑⠝⠤⠏⠑⠗',\n",
       " '⠍',\n",
       " '⠠⠭',\n",
       " '⠊',\n",
       " '⠁',\n",
       " '?',\n",
       " '?',\n",
       " '⠙⠑',\n",
       " '⠠⠉⠠⠞⠠⠎',\n",
       " '⠝⠕⠗⠑',\n",
       " '⠊⠝⠙',\n",
       " '?',\n",
       " '⠁⠠⠇',\n",
       " '⠞⠑',\n",
       " '?⠕⠗⠑',\n",
       " '⠇⠥⠉⠊⠙',\n",
       " '⠯',\n",
       " '⠑⠞',\n",
       " '⠯',\n",
       " '⠉⠕⠝⠉⠊⠎⠑',\n",
       " '⠙⠑⠲',\n",
       " '⠺⠊',\n",
       " '⠠⠏⠕⠎⠎⠊⠃⠇⠑',\n",
       " '⠺⠊⠞⠓⠕⠥⠞',\n",
       " '⠠⠋⠑⠉⠥⠗⠎⠊⠕⠝⠲',\n",
       " '⠠⠔',\n",
       " '⠼⠁',\n",
       " '⠦',\n",
       " '⠎⠑⠑',\n",
       " '⠁⠊⠙',\n",
       " '⠼⠁⠚⠲',\n",
       " '⠃⠑',\n",
       " '⠗⠑⠉⠥⠗⠎⠊⠧⠑',\n",
       " '⠕⠗⠊⠞⠓⠍⠎',\n",
       " '⠞⠓⠁⠝',\n",
       " '⠞⠎',\n",
       " '⠠⠎⠉⠗⠊⠏⠞⠊⠕⠝⠎',\n",
       " '⠷',\n",
       " '⠃⠕⠝',\n",
       " '⠠⠺⠑',\n",
       " '⠎⠓⠁⠇⠇']"
      ]
     },
     "execution_count": 24,
     "metadata": {},
     "output_type": "execute_result"
    }
   ],
   "source": [
    "string.split()"
   ]
  },
  {
   "cell_type": "code",
   "execution_count": null,
   "metadata": {},
   "outputs": [],
   "source": []
  }
 ],
 "metadata": {
  "kernelspec": {
   "display_name": "Python 3",
   "language": "python",
   "name": "python3"
  },
  "language_info": {
   "codemirror_mode": {
    "name": "ipython",
    "version": 3
   },
   "file_extension": ".py",
   "mimetype": "text/x-python",
   "name": "python",
   "nbconvert_exporter": "python",
   "pygments_lexer": "ipython3",
   "version": "3.6.8"
  }
 },
 "nbformat": 4,
 "nbformat_minor": 2
}

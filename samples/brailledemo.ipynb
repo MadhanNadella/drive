{
 "cells": [
  {
   "cell_type": "code",
   "execution_count": 6,
   "metadata": {},
   "outputs": [],
   "source": [
    "string=\"hello Everynien!. How are you?\\nI am fine. Thank you.\""
   ]
  },
  {
   "cell_type": "code",
   "execution_count": 7,
   "metadata": {},
   "outputs": [],
   "source": [
    "words = string.split(\" \")\n",
    "result = []\n",
    "for word in words:\n",
    "    temp = word.split(\"\\n\")\n",
    "    for item in temp:\n",
    "        result.append(item)"
   ]
  },
  {
   "cell_type": "code",
   "execution_count": 8,
   "metadata": {},
   "outputs": [
    {
     "data": {
      "text/plain": [
       "['hello',\n",
       " 'Everynien!.',\n",
       " 'How',\n",
       " 'are',\n",
       " 'you?\\nI',\n",
       " 'am',\n",
       " 'fine.',\n",
       " 'Thank',\n",
       " 'you.']"
      ]
     },
     "execution_count": 8,
     "metadata": {},
     "output_type": "execute_result"
    }
   ],
   "source": [
    "words"
   ]
  },
  {
   "cell_type": "code",
   "execution_count": 9,
   "metadata": {},
   "outputs": [
    {
     "data": {
      "text/plain": [
       "['hello',\n",
       " 'Everynien!.',\n",
       " 'How',\n",
       " 'are',\n",
       " 'you?',\n",
       " 'I',\n",
       " 'am',\n",
       " 'fine.',\n",
       " 'Thank',\n",
       " 'you.']"
      ]
     },
     "execution_count": 9,
     "metadata": {},
     "output_type": "execute_result"
    }
   ],
   "source": [
    "result"
   ]
  },
  {
   "cell_type": "code",
   "execution_count": null,
   "metadata": {},
   "outputs": [],
   "source": []
  }
 ],
 "metadata": {
  "kernelspec": {
   "display_name": "Python 3",
   "language": "python",
   "name": "python3"
  },
  "language_info": {
   "codemirror_mode": {
    "name": "ipython",
    "version": 3
   },
   "file_extension": ".py",
   "mimetype": "text/x-python",
   "name": "python",
   "nbconvert_exporter": "python",
   "pygments_lexer": "ipython3",
   "version": "3.6.8"
  }
 },
 "nbformat": 4,
 "nbformat_minor": 2
}

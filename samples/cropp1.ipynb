{
 "cells": [
  {
   "cell_type": "code",
   "execution_count": 2,
   "metadata": {},
   "outputs": [],
   "source": [
    "import cv2\n",
    "import numpy as np\n",
    "import os\n",
    "\n",
    "def transform(pos):\n",
    "\tpts=[]\n",
    "\tn=len(pos)\n",
    "\tfor i in range(n):\n",
    "\t\tpts.append(list(pos[i][0]))\n",
    "\t#print pts\n",
    "\tsums={}\n",
    "\tdiffs={}\n",
    "\tfor i in pts:\n",
    "\t\tx=i[0]\n",
    "\t\ty=i[1]\n",
    "\t\tsum=x+y\n",
    "\t\tdiff=y-x\n",
    "\t\tsums[sum]=i\n",
    "\t\tdiffs[diff]=i\n",
    "\tsums=sorted(sums.items())\n",
    "\tdiffs=sorted(diffs.items())\n",
    "\tn=len(sums)\n",
    "\trect=[sums[0][1],diffs[0][1],diffs[n-1][1],sums[n-1][1]]\n",
    "\t#\t   top-left   top-right   bottom-left   bottom-right\n",
    "\t\n",
    "\th1=np.sqrt((rect[0][0]-rect[2][0])**2 + (rect[0][1]-rect[2][1])**2)\t\t#height of left side\n",
    "\th2=np.sqrt((rect[1][0]-rect[3][0])**2 + (rect[1][1]-rect[3][1])**2)\t\t#height of right side\n",
    "\th=max(h1,h2)\n",
    "\t\n",
    "\tw1=np.sqrt((rect[0][0]-rect[1][0])**2 + (rect[0][1]-rect[1][1])**2)\t\t#width of upper side\n",
    "\tw2=np.sqrt((rect[2][0]-rect[3][0])**2 + (rect[2][1]-rect[3][1])**2)\t\t#width of lower side\n",
    "\tw=max(w1,w2)\n",
    "\t\n",
    "\t#print '#',rect\n",
    "\treturn int(w),int(h),rect\n",
    "def sizee(arr):\n",
    "    c=0\n",
    "    pts=np.zeros(8)\n",
    "    for i in np.ravel(arr):\n",
    "        pts[c]=int(i/r)\n",
    "        c+=1\n",
    "    return np.float32(pts)\n",
    "img=cv2.imread('pic27.jpg')\n",
    "r=500.0 / img.shape[1]\n",
    "dim=(500, int(img.shape[0] * r))\n",
    "img1=cv2.resize(img, dim, interpolation = cv2.INTER_AREA)\n",
    "gray=cv2.cvtColor(img1,cv2.COLOR_BGR2GRAY)\n",
    "gray=cv2.GaussianBlur(gray,(11,11),0)\n",
    "edge=cv2.Canny(gray,100,200)\n",
    "contours,_=cv2.findContours(edge.copy(),1,1)\n",
    "n=len(contours)\n",
    "max_area=0\n",
    "pos=0\n",
    "for i in contours:\n",
    "\tarea=cv2.contourArea(i)\n",
    "\tif area>max_area:\n",
    "\t\tmax_area=area\n",
    "\t\tpos=i\n",
    "peri=cv2.arcLength(pos,True)\n",
    "approx=cv2.approxPolyDP(pos,0.02*peri,True)\n",
    "\n",
    "size=img.shape\n",
    "cv2.imwrite(\"pic27re.jpg\",img)\n",
    "w,h,arr=transform(approx)\n",
    "\n",
    "pts1=np.float32(arr)\n",
    "pts2=np.float32([[0,0],[500,0],[0,500],[500,500]])\n",
    "#pts1=np.float32(arr)\n",
    "#pts2=sizee(pts2)\n",
    "#pts1=sizee(arr)\n",
    "M=cv2.getPerspectiveTransform(pts1,pts2)\n",
    "dst=cv2.warpPerspective(img1,M,(500,500))\n",
    "#image=cv2.cvtColor(dst,cv2.COLOR_BGR2GRAY)\n",
    "#image=cv2.adaptiveThreshold(image,255,1,0,11,2)\n",
    "#image = cv2.resize(image,(w,h),interpolation = cv2.INTER_AREA)\n",
    "cv2.imwrite(\"pic27c.jpg\",dst)\n",
    "cv2.waitKey(0)\n",
    "cv2.destroyAllWindows()"
   ]
  },
  {
   "cell_type": "code",
   "execution_count": 2,
   "metadata": {},
   "outputs": [
    {
     "data": {
      "text/plain": [
       "[[83, 75], [415, 67], [67, 539], [423, 549]]"
      ]
     },
     "execution_count": 2,
     "metadata": {},
     "output_type": "execute_result"
    }
   ],
   "source": [
    "arr"
   ]
  },
  {
   "cell_type": "code",
   "execution_count": 7,
   "metadata": {},
   "outputs": [
    {
     "data": {
      "text/plain": [
       "array([[[503, 444]],\n",
       "\n",
       "       [[502, 445]],\n",
       "\n",
       "       [[501, 445]],\n",
       "\n",
       "       ...,\n",
       "\n",
       "       [[506, 444]],\n",
       "\n",
       "       [[505, 444]],\n",
       "\n",
       "       [[504, 444]]], dtype=int32)"
      ]
     },
     "execution_count": 7,
     "metadata": {},
     "output_type": "execute_result"
    }
   ],
   "source": [
    "pos"
   ]
  },
  {
   "cell_type": "code",
   "execution_count": 8,
   "metadata": {},
   "outputs": [
    {
     "data": {
      "text/plain": [
       "array([[[ 936,  469]],\n",
       "\n",
       "       [[ 497,  451]],\n",
       "\n",
       "       [[ 451, 3254]],\n",
       "\n",
       "       [[ 497,  451]]], dtype=int32)"
      ]
     },
     "execution_count": 8,
     "metadata": {},
     "output_type": "execute_result"
    }
   ],
   "source": [
    "approx"
   ]
  },
  {
   "cell_type": "code",
   "execution_count": 4,
   "metadata": {},
   "outputs": [
    {
     "data": {
      "text/plain": [
       "(4000, 3000, 3)"
      ]
     },
     "execution_count": 4,
     "metadata": {},
     "output_type": "execute_result"
    }
   ],
   "source": [
    "img.shape"
   ]
  },
  {
   "cell_type": "code",
   "execution_count": null,
   "metadata": {},
   "outputs": [],
   "source": []
  }
 ],
 "metadata": {
  "kernelspec": {
   "display_name": "Python 3",
   "language": "python",
   "name": "python3"
  },
  "language_info": {
   "codemirror_mode": {
    "name": "ipython",
    "version": 3
   },
   "file_extension": ".py",
   "mimetype": "text/x-python",
   "name": "python",
   "nbconvert_exporter": "python",
   "pygments_lexer": "ipython3",
   "version": "3.6.8"
  }
 },
 "nbformat": 4,
 "nbformat_minor": 2
}
